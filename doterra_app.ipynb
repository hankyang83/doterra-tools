{
 "cells": [
  {
   "cell_type": "code",
   "execution_count": 1,
   "metadata": {},
   "outputs": [],
   "source": [
    "from selenium import webdriver\n",
    "import pandas as pd\n",
    "import time"
   ]
  },
  {
   "cell_type": "code",
   "execution_count": 2,
   "metadata": {},
   "outputs": [],
   "source": [
    "timeout = 60"
   ]
  },
  {
   "cell_type": "code",
   "execution_count": 3,
   "metadata": {},
   "outputs": [],
   "source": [
    "driver = webdriver.Chrome(executable_path='/Users/Han/Desktop/DeskTop/chromedriver')\n",
    "driver.get('https://login.doterra.com/tw/zh-tw/sign-in')"
   ]
  },
  {
   "cell_type": "code",
   "execution_count": 4,
   "metadata": {},
   "outputs": [],
   "source": [
    "def log_in(driver, ac, pwd):\n",
    "    driver.find_element_by_name('uid').clear()\n",
    "    driver.find_element_by_name('uid').send_keys(ac)\n",
    "    driver.find_element_by_name('password').clear()\n",
    "    driver.find_element_by_name('password').send_keys(pwd)\n",
    "    driver.find_element_by_xpath('//button[@type=\"submit\"]').submit()\n",
    "    # check log in\n",
    "    start = time.time()\n",
    "    while True:\n",
    "        if (time.time() - start) > timeout:\n",
    "            print('Operation Timeout')\n",
    "            break\n",
    "        try:\n",
    "            driver.find_element_by_link_text('首頁').click()\n",
    "            print('Logging success')\n",
    "            break\n",
    "        except:\n",
    "            pass"
   ]
  },
  {
   "cell_type": "code",
   "execution_count": 5,
   "metadata": {},
   "outputs": [],
   "source": [
    "def log_out(driver):\n",
    "    start = time.time()\n",
    "    while True:\n",
    "        if (time.time() - start) > timeout:\n",
    "            print('Operation Timeout')\n",
    "            break\n",
    "        try:\n",
    "            driver.find_element_by_xpath('//a[@id=\"SignOut\"]').click()\n",
    "            break\n",
    "        except:\n",
    "            pass\n",
    "    # check log out\n",
    "    start = time.time()\n",
    "    while True:\n",
    "        if (time.time() - start) > timeout:\n",
    "            print('Operation Timeout')\n",
    "            break\n",
    "        try:\n",
    "            keyword = driver.find_element_by_xpath('//div[@class=\"title\"]').text\n",
    "            if keyword == 'Sign in':\n",
    "                print('Log out success')\n",
    "                break\n",
    "        except:\n",
    "            pass"
   ]
  },
  {
   "cell_type": "code",
   "execution_count": 6,
   "metadata": {},
   "outputs": [],
   "source": [
    "def get_point(driver):\n",
    "    start = time.time()\n",
    "    while True:\n",
    "        if (time.time() - start) > timeout:\n",
    "            print('Operation Timeout')\n",
    "            break\n",
    "        try:\n",
    "            driver.find_element_by_link_text('首頁').click()\n",
    "            driver.find_element_by_xpath('//a[@href=\"/index.cfm?tabsel=MainMenu\"]').click()\n",
    "            time.sleep(2)\n",
    "            point = driver.find_element_by_xpath('//div[@class=\"ten wide middle aligned column\"]').text.split('\\n')[0]\n",
    "            break\n",
    "        except:\n",
    "            pass\n",
    "    return point"
   ]
  },
  {
   "cell_type": "code",
   "execution_count": 19,
   "metadata": {},
   "outputs": [],
   "source": [
    "df = pd.read_excel('account_info.xlsx')"
   ]
  },
  {
   "cell_type": "code",
   "execution_count": 20,
   "metadata": {},
   "outputs": [
    {
     "name": "stdout",
     "output_type": "stream",
     "text": [
      "<class 'pandas.core.frame.DataFrame'>\n",
      "RangeIndex: 25 entries, 0 to 24\n",
      "Data columns (total 4 columns):\n",
      " #   Column      Non-Null Count  Dtype  \n",
      "---  ------      --------------  -----  \n",
      " 0   Unnamed: 0  25 non-null     int64  \n",
      " 1   ID          25 non-null     int64  \n",
      " 2   PassWord    25 non-null     object \n",
      " 3   Point       25 non-null     float64\n",
      "dtypes: float64(1), int64(2), object(1)\n",
      "memory usage: 928.0+ bytes\n"
     ]
    }
   ],
   "source": [
    "df.info()"
   ]
  },
  {
   "cell_type": "code",
   "execution_count": 24,
   "metadata": {},
   "outputs": [
    {
     "name": "stdout",
     "output_type": "stream",
     "text": [
      "5935436 As5935436\n",
      "Logging success\n",
      "104.1\n",
      "Log out success\n",
      "360836 Yang0421\n",
      "Logging success\n",
      "0.39\n",
      "Log out success\n",
      "854152 Ab854152\n",
      "Logging success\n",
      "161.24\n",
      "Log out success\n",
      "851941 Ab851941\n",
      "Logging success\n",
      "155.55\n",
      "Log out success\n",
      "6071668 Ab6071668\n",
      "Logging success\n",
      "0.26\n",
      "Log out success\n",
      "6093570 Ab6093570\n",
      "Logging success\n",
      "0.75\n",
      "Log out success\n",
      "291562 Ab291562\n",
      "Logging success\n",
      "217.2\n",
      "Log out success\n",
      "2058998 Ab2058998\n",
      "Logging success\n",
      "0.35\n",
      "Log out success\n",
      "5988939 Ab5988939\n",
      "Logging success\n",
      "11.05\n",
      "Log out success\n",
      "1160939 Ab1160939\n",
      "Logging success\n",
      "0.75\n",
      "Log out success\n",
      "6314182 Ab6314182\n",
      "Logging success\n",
      "0.7\n",
      "Log out success\n",
      "6335479 Ab6335479\n",
      "Logging success\n",
      "0.2\n",
      "Log out success\n",
      "549316 Aa549316\n",
      "Logging success\n",
      "0.95\n",
      "Log out success\n",
      "560123 Ab560123\n",
      "Logging success\n",
      "24.3\n",
      "Log out success\n",
      "6186125 Ab6186125\n",
      "Logging success\n",
      "32.4\n",
      "Log out success\n",
      "3827232 Ab3827232\n",
      "Logging success\n",
      "37.45\n",
      "Log out success\n",
      "6314775 Ab6314775\n",
      "Logging success\n",
      "28.9\n",
      "Log out success\n",
      "6413740 Ab6413740\n",
      "Logging success\n",
      "45.3\n",
      "Log out success\n",
      "1921706 Aa1921706\n",
      "Logging success\n",
      "0.7\n",
      "Log out success\n",
      "573941 Ab573941\n",
      "Logging success\n",
      "0.2\n",
      "Log out success\n",
      "3401611 Ab3401611\n",
      "Logging success\n",
      "0\n",
      "Log out success\n",
      "558590 Aa558590\n",
      "Logging success\n",
      "0\n",
      "Log out success\n",
      "360842 Aa360842\n",
      "Logging success\n",
      "1\n",
      "Log out success\n",
      "6462789 Ab6462789\n",
      "Logging success\n",
      "0.95\n",
      "Log out success\n",
      "2182029 Ab2182029\n",
      "Logging success\n",
      "1.05\n",
      "Log out success\n",
      "CPU times: user 4.36 s, sys: 321 ms, total: 4.68 s\n",
      "Wall time: 7min 29s\n"
     ]
    }
   ],
   "source": [
    "%%time\n",
    "for idx, row in df.iterrows():\n",
    "    account = str(int(row['ID']))\n",
    "    passwd = row['PassWord']\n",
    "    print(account, passwd)\n",
    "    try:\n",
    "        log_in(driver, account, passwd)\n",
    "    except:\n",
    "        print('Login fail')\n",
    "        continue\n",
    "    point = get_point(driver)\n",
    "    print(point)\n",
    "    df.loc[idx, 'Point'] = point\n",
    "    try:\n",
    "        log_out(driver)\n",
    "    except:\n",
    "        print('sign out fail')\n",
    "        break"
   ]
  },
  {
   "cell_type": "code",
   "execution_count": 25,
   "metadata": {},
   "outputs": [],
   "source": [
    "df.to_excel('account_info.xlsx', index=False)"
   ]
  },
  {
   "cell_type": "code",
   "execution_count": null,
   "metadata": {},
   "outputs": [],
   "source": []
  }
 ],
 "metadata": {
  "kernelspec": {
   "display_name": "Python 3",
   "language": "python",
   "name": "python3"
  },
  "language_info": {
   "codemirror_mode": {
    "name": "ipython",
    "version": 3
   },
   "file_extension": ".py",
   "mimetype": "text/x-python",
   "name": "python",
   "nbconvert_exporter": "python",
   "pygments_lexer": "ipython3",
   "version": "3.6.10"
  }
 },
 "nbformat": 4,
 "nbformat_minor": 4
}
